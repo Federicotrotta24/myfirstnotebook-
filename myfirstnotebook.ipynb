{
  "metadata": {
    "language_info": {
      "codemirror_mode": {
        "name": "python",
        "version": 3
      },
      "file_extension": ".py",
      "mimetype": "text/x-python",
      "name": "python",
      "nbconvert_exporter": "python",
      "pygments_lexer": "ipython3",
      "version": "3.8"
    },
    "kernelspec": {
      "name": "python",
      "display_name": "Python (Pyodide)",
      "language": "python"
    }
  },
  "nbformat_minor": 4,
  "nbformat": 4,
  "cells": [
    {
      "cell_type": "markdown",
      "source": "<h1>My notebook</h1>",
      "metadata": {}
    },
    {
      "cell_type": "markdown",
      "source": "<h2>Introduction</h2>",
      "metadata": {}
    },
    {
      "cell_type": "markdown",
      "source": "### Data Science Languages\n<ol>\n<li>Python</li>\n<li>R</li>\n<li>SQL</li>\n<li>JAVA</li>\n<li>JULIA</li>\n</ol>",
      "metadata": {}
    },
    {
      "cell_type": "markdown",
      "source": "### Data Science Libraries\n<ol>\n<li>NUMPY</li>\n<li>Pandas</li>\n<li>Matplotlib</li>\n<li>Scipy</li>\n</ol>",
      "metadata": {}
    },
    {
      "cell_type": "markdown",
      "source": "| Name| Uses | \n| --- | --- | \n| Matplotlib | Ploting graphs |\n| Pandas | Data Analysis and Manipulation | \n| Numpy | work with complex arrays and matrices | \n| SciKit | Machine Learning | \n",
      "metadata": {}
    },
    {
      "cell_type": "markdown",
      "source": "### Arithmetic Expressions\n<ol>\n<li>\"+\" = Add</li>\n<li>\"*\" = Multiply</li>\n<li>\"/\" = Divide </li>\n<li>\"()\" = Parenthesis</li>\n</ol>",
      "metadata": {}
    },
    {
      "cell_type": "code",
      "source": "add = 3 + 5\nprint(add)\nmultiply = 3*5 \nprint(multiply)",
      "metadata": {
        "trusted": true
      },
      "execution_count": 7,
      "outputs": [
        {
          "name": "stdout",
          "text": "8\n15\n",
          "output_type": "stream"
        }
      ]
    },
    {
      "cell_type": "code",
      "source": "mins = 255\nhours = mins / 60\nprint(f'The number of hours is {hours}')",
      "metadata": {
        "trusted": true
      },
      "execution_count": 10,
      "outputs": [
        {
          "name": "stdout",
          "text": "The number of hours is 4.25\n",
          "output_type": "stream"
        }
      ]
    },
    {
      "cell_type": "code",
      "source": "### List of Objectives \n<ol>\n<li>Objective 1</li>\n<li>Objective 2</li>\n<li>Objective 3</li>\n<li>Objective 4</li>\n</ol>",
      "metadata": {
        "trusted": true
      },
      "execution_count": 11,
      "outputs": [
        {
          "ename": "<class 'SyntaxError'>",
          "evalue": "invalid syntax (<ipython-input-11-63c03a766d45>, line 2)",
          "traceback": [
            "\u001b[0;36m  Cell \u001b[0;32mIn[11], line 2\u001b[0;36m\u001b[0m\n\u001b[0;31m    <ol>\u001b[0m\n\u001b[0m    ^\u001b[0m\n\u001b[0;31mSyntaxError\u001b[0m\u001b[0;31m:\u001b[0m invalid syntax\n"
          ],
          "output_type": "error"
        }
      ]
    }
  ]
}